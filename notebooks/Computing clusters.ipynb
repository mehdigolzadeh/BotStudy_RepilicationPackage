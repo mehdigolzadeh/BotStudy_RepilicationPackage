{
 "cells": [
  {
   "cell_type": "code",
   "execution_count": 1,
   "metadata": {},
   "outputs": [],
   "source": [
    "import pandas\n",
    "import itertools\n",
    "import sklearn \n",
    "import seaborn\n",
    "import matplotlib\n",
    "import spacy\n",
    "\n",
    "from tqdm.notebook import tqdm\n",
    "from IPython.display import display\n",
    "tqdm.pandas()\n",
    "\n",
    "from functools import lru_cache, partial\n",
    "lru_cache = lru_cache(maxsize=None)\n",
    "\n",
    "%matplotlib inline"
   ]
  },
  {
   "cell_type": "code",
   "execution_count": 2,
   "metadata": {},
   "outputs": [],
   "source": [
    "nlp = spacy.load(\"en_core_web_sm\")"
   ]
  },
  {
   "cell_type": "markdown",
   "metadata": {},
   "source": [
    "### Load comment data and rating data"
   ]
  },
  {
   "cell_type": "code",
   "execution_count": 3,
   "metadata": {},
   "outputs": [],
   "source": [
    "# Load raw dataset of accounts and comments retrieved from GitHub API\n",
    "df_raw = (\n",
    "    pandas.read_csv('../rawdata/account_comments.csv.gz', index_col=0)\n",
    "    .fillna('')\n",
    "    .assign(comment = lambda x: x['comment'].astype(str))\n",
    ")\n",
    "# To have a copy of original dataset\n",
    "df = df_raw.copy()"
   ]
  },
  {
   "cell_type": "code",
   "execution_count": 4,
   "metadata": {
    "scrolled": true
   },
   "outputs": [],
   "source": [
    "df_ratings = pandas.read_csv('../rawdata/accounts_rating_final.csv')"
   ]
  },
  {
   "cell_type": "markdown",
   "metadata": {},
   "source": [
    "### Tokenizing texts"
   ]
  },
  {
   "cell_type": "code",
   "execution_count": 5,
   "metadata": {},
   "outputs": [],
   "source": [
    "# spacy tokenizer\n",
    "def tokenizer(text):\n",
    "    doc = nlp(text)\n",
    "    return [t.text for t in doc]"
   ]
  },
  {
   "cell_type": "code",
   "execution_count": null,
   "metadata": {},
   "outputs": [
    {
     "data": {
      "application/vnd.jupyter.widget-view+json": {
       "model_id": "e0bce5c1ef9745caa0486d1af98a6e46",
       "version_major": 2,
       "version_minor": 0
      },
      "text/plain": [
       "HBox(children=(FloatProgress(value=0.0, max=319514.0), HTML(value='')))"
      ]
     },
     "metadata": {},
     "output_type": "display_data"
    }
   ],
   "source": [
    "# Tokenize comments\n",
    "df = (\n",
    "    df\n",
    "    .assign(words=lambda d: d['comment'].progress_apply(lambda c:\n",
    "        (set() if (type(c) is float) | (c == \"\") else set(tokenizer(c)) )\n",
    "    ))\n",
    "    .reset_index(drop=True) \n",
    ")"
   ]
  },
  {
   "cell_type": "markdown",
   "metadata": {},
   "source": [
    "### Routines"
   ]
  },
  {
   "cell_type": "code",
   "execution_count": null,
   "metadata": {},
   "outputs": [],
   "source": [
    "def compute_distance(items, distance):\n",
    "    \"\"\" \n",
    "    Computes a distance matrix for given items, using given distance function.\n",
    "    \"\"\"\n",
    "    m = pandas.np.zeros((len(items), len(items)))\n",
    "    enumitems = list(enumerate(items))\n",
    "    for xe, ye in itertools.combinations(enumitems, 2):\n",
    "        i, x = xe\n",
    "        j, y = ye\n",
    "        d = distance(x, y)\n",
    "        m[i,j] = m[j,i] = d\n",
    "    return m"
   ]
  },
  {
   "cell_type": "code",
   "execution_count": null,
   "metadata": {},
   "outputs": [],
   "source": [
    "@lru_cache\n",
    "def jaccard(x, y):\n",
    "    \"\"\"\n",
    "    To tokenize text and compute jaccard disatnce\n",
    "    \"\"\"\n",
    "    x_w = set(tokenizer(x))\n",
    "    y_w = set(tokenizer(y))\n",
    "    return len(x_w.symmetric_difference(y_w)) / (len(x_w.union(y_w)) if len(x_w.union(y_w))>0 else 1)\n",
    "\n",
    "def jaccard_words(x, y):\n",
    "    \"\"\"\n",
    "    Same as above, but on list of words.    \n",
    "    \"\"\"\n",
    "    return len(x.symmetric_difference(y)) / (len(x.union(y)) if len(x.union(y))>0 else 1)"
   ]
  },
  {
   "cell_type": "code",
   "execution_count": null,
   "metadata": {},
   "outputs": [],
   "source": [
    "@lru_cache\n",
    "def levenshtein(x, y, n=None):\n",
    "    from Levenshtein import distance as lev\n",
    "    if n is not None:\n",
    "        x = x[:n]\n",
    "        y = y[:n]\n",
    "    return lev(x, y) / (max(len(x), len(y)) if max(len(x), len(y)) >0 else 1)"
   ]
  },
  {
   "cell_type": "code",
   "execution_count": null,
   "metadata": {},
   "outputs": [],
   "source": [
    "def average_jac_lev(x, y):\n",
    "    \"\"\"\n",
    "    Computes average of jacard and levenshtein for 2 given strings\n",
    "    \"\"\"\n",
    "    return (jaccard(x, y) + levenshtein(x, y)) / 2"
   ]
  },
  {
   "cell_type": "markdown",
   "metadata": {},
   "source": [
    "### Compute number of clusters"
   ]
  },
  {
   "cell_type": "code",
   "execution_count": null,
   "metadata": {},
   "outputs": [],
   "source": [
    "from sklearn.cluster import DBSCAN"
   ]
  },
  {
   "cell_type": "code",
   "execution_count": null,
   "metadata": {},
   "outputs": [],
   "source": [
    "parameters = {\n",
    "    'Jaccard': {'func': jaccard_words, 'source': 'words', 'eps': 0.5},\n",
    "    'Levenshtein': {'func': levenshtein, 'source': 'comment', 'eps': 0.5},\n",
    "    'Combined': {'func': average_jac_lev, 'source': 'comment', 'eps': 0.5},\n",
    "}"
   ]
  },
  {
   "cell_type": "code",
   "execution_count": null,
   "metadata": {
    "scrolled": true
   },
   "outputs": [],
   "source": [
    "# Using pool and tqdm to calculate clusters \n",
    "\n",
    "from multiprocessing import Pool\n",
    "\n",
    "def task(data):\n",
    "    user, distance, group, params = data\n",
    "    \n",
    "    clustering = DBSCAN(eps=params['eps'], min_samples=1, metric='precomputed')\n",
    "    items = compute_distance(getattr(group, params['source']), params['func'])\n",
    "    clusters = clustering.fit_predict(items)\n",
    "    \n",
    "    return (\n",
    "        user, \n",
    "        distance, \n",
    "        len(group), \n",
    "        clusters,\n",
    "        items,\n",
    "    )\n",
    "    \n",
    "inputs = []\n",
    "for user, group in df.groupby('account'):\n",
    "    for distance, params in parameters.items():\n",
    "        inputs.append((user, distance, group.copy(), params))\n",
    "        \n",
    "data = []\n",
    "with Pool() as pool:\n",
    "    for result in tqdm(pool.imap_unordered(task, inputs), total=len(inputs)):\n",
    "        data.append(result)\n",
    "        \n",
    "df_clusters = pandas.DataFrame(data=data, columns=['account', 'distance', 'comments', 'labels', 'matrix'])"
   ]
  },
  {
   "cell_type": "code",
   "execution_count": 313,
   "metadata": {},
   "outputs": [],
   "source": [
    "def gini(x):\n",
    "    \"\"\"\n",
    "    Computes Gini inequality metric for a given array\n",
    "    \"\"\"\n",
    "    mad = np.abs(np.subtract.outer(x, x)).mean()\n",
    "    rmad = (mad/np.mean(x) if np.mean(x) != 0 else 0)\n",
    "    g = 0.5 * rmad\n",
    "    return g"
   ]
  },
  {
   "cell_type": "code",
   "execution_count": 314,
   "metadata": {
    "scrolled": true
   },
   "outputs": [
    {
     "name": "stderr",
     "output_type": "stream",
     "text": [
      "/root/.local/share/virtualenvs/botse/lib/python3.6/site-packages/ipykernel_launcher.py:11: RuntimeWarning: Mean of empty slice.\n",
      "  # This is added back by InteractiveShellApp.init_path()\n",
      "/root/.local/share/virtualenvs/botse/lib/python3.6/site-packages/ipykernel_launcher.py:5: RuntimeWarning: Mean of empty slice.\n",
      "  \"\"\"\n",
      "/root/.local/share/virtualenvs/botse/lib/python3.6/site-packages/numpy/core/fromnumeric.py:3335: RuntimeWarning: Mean of empty slice.\n",
      "  out=out, **kwargs)\n"
     ]
    }
   ],
   "source": [
    "from collections import Counter\n",
    "np = pandas.np\n",
    "\n",
    "df_clusters = (\n",
    "    df_clusters\n",
    "    .assign(\n",
    "        clusters=lambda d: d['labels'].apply(lambda s: max(*s) + 1),\n",
    "        values=lambda d: d['matrix'].apply(lambda s: s[pandas.np.tril(s).astype(bool)]),\n",
    "    )\n",
    "    .assign(\n",
    "        mean=lambda d: d['values'].apply(lambda s: s.mean()),\n",
    "        gini = lambda d: d['values'].apply(lambda s: gini(s)),\n",
    "    )\n",
    ")"
   ]
  },
  {
   "cell_type": "markdown",
   "metadata": {},
   "source": [
    "## Bot vs Human - Jaccard vs Levenshtein"
   ]
  },
  {
   "cell_type": "code",
   "execution_count": null,
   "metadata": {},
   "outputs": [],
   "source": [
    "df_temp = (\n",
    "    df_ratings.assign(\n",
    "        bot = lambda x: x['final'].apply(lambda s: ('Bot' if s == 2 else 'Human'))\n",
    "    )[['id','bot']]\n",
    "    .merge(\n",
    "        df_clusters.assign(\n",
    "            mean = lambda x: x['matrix'].apply(lambda s : s[~pandas.np.eye(s.shape[0], dtype='bool')].mean())\n",
    "        )[['account','distance','mean']]\n",
    "        .merge(\n",
    "            df_raw.drop_duplicates(['account','id'])[['account','id']],\n",
    "            on='account',\n",
    "            how='left'\n",
    "        ),\n",
    "        on='id',\n",
    "        how='left'\n",
    "    )\n",
    ")"
   ]
  },
  {
   "cell_type": "code",
   "execution_count": 331,
   "metadata": {},
   "outputs": [
    {
     "data": {
      "image/png": "[encoded data removed]",
      "text/plain": [
       "<Figure size 360x144 with 1 Axes>"
      ]
     },
     "metadata": {
      "needs_background": "light"
     },
     "output_type": "display_data"
    }
   ],
   "source": [
    "fig, ax = matplotlib.pyplot.subplots(figsize=[5,2])\n",
    "\n",
    "classes = [\"Bot\", \"Human\"]\n",
    "\n",
    "ax = seaborn.scatterplot(\n",
    "    data=(\n",
    "        df_temp[lambda d: d['distance'] == 'Jaccard']\n",
    "        .merge(\n",
    "            df_temp[lambda d: d['distance'] == 'Levenshtein'],\n",
    "            on=['account'], \n",
    "            suffixes=('_jaccard', '_levenshtein'),\n",
    "        )\n",
    "        .sort_values('bot_jaccard',ascending=False)\n",
    "    ),\n",
    "    x='mean_jaccard',\n",
    "    y='mean_levenshtein',\n",
    "    hue='bot_jaccard',\n",
    "    style='bot_jaccard',\n",
    "    markers=['v','^'],\n",
    "    hue_order=[\"Bot\", 'Human'],\n",
    "    s=12,\n",
    "    linewidth=.1, alpha = 1,\n",
    "    ax = ax,\n",
    ")\n",
    "ax.spines['top'].set_visible(False)\n",
    "ax.spines['right'].set_visible(False)\n",
    "handles, labels = ax.get_legend_handles_labels()\n",
    "ax.legend(handles=handles[1:], labels=labels[1:])\n",
    "ax.set_ylabel('mean Levenshtein\\ndistance')\n",
    "ax.set_xlabel('mean Jaccard distance')\n",
    "fig.savefig('../figures/jaclev_scatter.pdf', bbox_inches='tight')"
   ]
  },
  {
   "cell_type": "markdown",
   "metadata": {},
   "source": [
    "## Create dataset for classification task"
   ]
  },
  {
   "cell_type": "code",
   "execution_count": 315,
   "metadata": {},
   "outputs": [
    {
     "name": "stderr",
     "output_type": "stream",
     "text": [
      "/root/.local/share/virtualenvs/botse/lib/python3.6/site-packages/pandas/core/reshape/merge.py:617: UserWarning: merging between different levels can give an unintended result (1 levels on the left, 2 on the right)\n",
      "  warnings.warn(msg, UserWarning)\n",
      "/root/.local/share/virtualenvs/botse/lib/python3.6/site-packages/pandas/core/generic.py:3946: PerformanceWarning: dropping on a non-lexsorted multi-index without a level parameter may impact performance.\n",
      "  new_axis = axis.drop(labels, errors=errors)\n"
     ]
    }
   ],
   "source": [
    "# This dataframe contains the following information: \n",
    "#   * id,         -> ID associated to the account in our database\n",
    "#   * account,         -> account's user login\n",
    "#   * project,         -> in which project in github\n",
    "#   * comments,        -> number of comments, \n",
    "#   * empty_comments,  -> number of empty comments\n",
    "#   * clusters,        -> number of comment cluster\n",
    "#   * gini    -> gini of comments according to combined distance metric\n",
    "\n",
    "df = (\n",
    "    df_raw\n",
    "    .assign(\n",
    "        comment = lambda x: x['comment'].fillna(\"\")\n",
    "    )\n",
    "    .assign(comment = lambda x: x['comment'].astype(str))\n",
    "    .assign(empty = lambda x: np.where(x['comment'].str.len()==0,1,0) )\n",
    "    .groupby(['id','account','project'],as_index = False)\n",
    "    .agg({\n",
    "        'comment':'count',\n",
    "        'empty':'sum'\n",
    "    })\n",
    "    .merge(\n",
    "        (\n",
    "            pandas.pivot_table(\n",
    "                df_clusters[['account','distance','clusters','gini']],\n",
    "                values=['clusters','gini'],\n",
    "                index=['account'],\n",
    "                columns=['distance']\n",
    "            )\n",
    "            .reset_index()\n",
    "        ),\n",
    "        on = 'account',\n",
    "        how = 'left'\n",
    "    )\n",
    ")\n",
    "df.columns = ['id','account','project','comments','empty_comments',\n",
    "              'clusters','clusters_jaccard','clusters_levenshtein',\n",
    "              'gini','jaccard_gini','levenshtein_gini']\n",
    "df = df[['id','account','project','comments','empty_comments','clusters','gini']]"
   ]
  },
  {
   "cell_type": "code",
   "execution_count": 316,
   "metadata": {},
   "outputs": [],
   "source": [
    "# combine two df to have final dataset for classification task\n",
    "df_ratings.merge(\n",
    "    df,\n",
    "    on='id',\n",
    "    how='left'\n",
    ").to_csv('../data/accounts_info.csv',index = False)"
   ]
  }
 ],
 "metadata": {
  "kernelspec": {
   "display_name": "Python 3",
   "language": "python",
   "name": "python3"
  },
  "language_info": {
   "codemirror_mode": {
    "name": "ipython",
    "version": 3
   },
   "file_extension": ".py",
   "mimetype": "text/x-python",
   "name": "python",
   "nbconvert_exporter": "python",
   "pygments_lexer": "ipython3",
   "version": "3.7.7"
  }
 },
 "nbformat": 4,
 "nbformat_minor": 4
}
