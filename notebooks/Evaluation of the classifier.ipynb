{
 "cells": [
  {
   "cell_type": "code",
   "execution_count": 1,
   "metadata": {},
   "outputs": [
    {
     "name": "stderr",
     "output_type": "stream",
     "text": [
      "/usr/local/lib/python3.8/site-packages/tqdm/std.py:703: FutureWarning: The Panel class is removed from pandas. Accessing it from the top-level namespace will also be removed in the next version\n",
      "  from pandas import Panel\n"
     ]
    }
   ],
   "source": [
    "import pandas\n",
    "import numpy as np\n",
    "import matplotlib as mlp\n",
    "import seaborn\n",
    "import matplotlib.pyplot as plt\n",
    "from statistics import mean\n",
    "from tqdm.notebook import tqdm\n",
    "from IPython.display import display\n",
    "tqdm.pandas()\n",
    "import warnings\n",
    "warnings.filterwarnings('ignore')\n",
    "pandas.set_option('display.max_colwidth', -1)"
   ]
  },
  {
   "cell_type": "code",
   "execution_count": 2,
   "metadata": {},
   "outputs": [],
   "source": [
    "# To make sure that all runs are similar + \n",
    "# Seed helps us to make sure we have the same train and test sets as it is in training notebook\n",
    "RAND_SEED = 6758\n",
    "\n",
    "# Proportion of dataset to be considered as Test set\n",
    "SPLIT = 0.4 \n",
    "\n",
    "# Selected features\n",
    "features = ['comments','empty_comments','clusters','gini']"
   ]
  },
  {
   "cell_type": "markdown",
   "metadata": {},
   "source": [
    "## Load and split date"
   ]
  },
  {
   "cell_type": "code",
   "execution_count": 3,
   "metadata": {},
   "outputs": [],
   "source": [
    "df_orig = pandas.read_csv('../data/accounts.csv.gz')"
   ]
  },
  {
   "cell_type": "markdown",
   "metadata": {},
   "source": [
    "## Create same train and test set as the one we used in classification notebook"
   ]
  },
  {
   "cell_type": "code",
   "execution_count": 4,
   "metadata": {},
   "outputs": [],
   "source": [
    "from sklearn.model_selection import train_test_split \n",
    "\n",
    "df = (\n",
    "    # Having a copy of original data\n",
    "    df_orig.copy()\n",
    "    .reset_index()\n",
    ")\n",
    "\n",
    "def train_test_split(dataframe, test_split=.4, random_state=123):\n",
    "    # Set of bots\n",
    "    bots = df[lambda x: x['bot']==1 ]\n",
    "    # Set of humans\n",
    "    humans = df[lambda x: x['bot']==0 ]\n",
    "\n",
    "    # Split of bots for the test set\n",
    "    df_test_bot = bots.sample(round(SPLIT *len(bots)),random_state=RAND_SEED)\n",
    "    # Split of bots for the train set\n",
    "    df_train_bot = df.iloc[bots[lambda x: ~bots.index.isin(df_test_bot.index)].index]\n",
    "\n",
    "    # Split of humans for the test set\n",
    "    df_test_human = humans.sample(round(SPLIT *len(humans)),random_state=RAND_SEED)\n",
    "    # Split of humans for the train set\n",
    "    df_train_human = df.iloc[humans[lambda x: ~humans.index.isin(df_test_human.index)].index]\n",
    "\n",
    "    # Create the train set \n",
    "    df_train = (pandas.concat([df_train_bot,df_train_human]))\n",
    "    # Create the test set \n",
    "    df_test = (pandas.concat([df_test_human,df_test_bot]))\n",
    "    \n",
    "    return df_train,df_test\n",
    "\n",
    "df_train, df_test = train_test_split(df,test_split=SPLIT,random_state=RAND_SEED)"
   ]
  },
  {
   "cell_type": "markdown",
   "metadata": {},
   "source": [
    "## Load model "
   ]
  },
  {
   "cell_type": "code",
   "execution_count": 5,
   "metadata": {},
   "outputs": [],
   "source": [
    "import pickle\n",
    "\n",
    "filename = \"../model.pkl\"\n",
    "\n",
    "with open(filename, 'rb') as file:\n",
    "    model = pickle.load(file)"
   ]
  },
  {
   "cell_type": "markdown",
   "metadata": {},
   "source": [
    "## Evaluate model on test data"
   ]
  },
  {
   "cell_type": "code",
   "execution_count": 6,
   "metadata": {
    "scrolled": false
   },
   "outputs": [
    {
     "name": "stdout",
     "output_type": "stream",
     "text": [
      "              precision    recall  f1-score   support\n",
      "\n",
      "           0       0.99      0.99      0.99      1789\n",
      "           1       0.94      0.91      0.92       211\n",
      "\n",
      "    accuracy                           0.98      2000\n",
      "   macro avg       0.96      0.95      0.96      2000\n",
      "weighted avg       0.98      0.98      0.98      2000\n",
      "\n"
     ]
    }
   ],
   "source": [
    "from sklearn.metrics import classification_report \n",
    "print(classification_report(df_test['bot'].values,model.predict(df_test[features].values)))\n",
    "\n",
    "testres = (\n",
    "    df_test.assign(predict = lambda x: model.predict(x[features]))\n",
    ")\n",
    "trainres = (\n",
    "    df_train.assign(predict = lambda x: model.predict(x[features]))\n",
    ")"
   ]
  },
  {
   "cell_type": "markdown",
   "metadata": {},
   "source": [
    "## Statistics"
   ]
  },
  {
   "cell_type": "code",
   "execution_count": 7,
   "metadata": {},
   "outputs": [
    {
     "name": "stdout",
     "output_type": "stream",
     "text": [
      "Wrongly classified in the test set:\n",
      "\tbots identified as human 19\n",
      "\thuman identified as bot 13\n",
      "\n",
      "Correctly classified in the test set:\n",
      "\tcorrectly classified bots 192\n",
      "\tcorrectly classified humans 1776\n"
     ]
    }
   ],
   "source": [
    "print(\"Wrongly classified in the test set:\")\n",
    "print(\"\\tbots identified as human\",len(testres.query('bot != predict & predict == 0 & bot == 1')))\n",
    "print(\"\\thuman identified as bot\",len(testres.query('bot != predict & predict == 1 & bot == 0')))\n",
    "\n",
    "print(\"\\nCorrectly classified in the test set:\")\n",
    "print(\"\\tcorrectly classified bots\",len(testres.query('bot == predict & predict == 1')))\n",
    "print(\"\\tcorrectly classified humans\",len(testres.query('bot == predict & predict == 0')))"
   ]
  },
  {
   "cell_type": "code",
   "execution_count": 8,
   "metadata": {},
   "outputs": [
    {
     "name": "stdout",
     "output_type": "stream",
     "text": [
      "Wrongly classified in the training set:\n",
      "\tbots identified as human 5\n",
      "\thuman identified as bot 4\n",
      "\n",
      "Correctly classified in the training set:\n",
      "\tcorrectly classified bots 311\n",
      "\tcorrectly classified humans 2680\n"
     ]
    }
   ],
   "source": [
    "print(\"Wrongly classified in the training set:\")\n",
    "print(\"\\tbots identified as human\",len(trainres.query('bot != predict & predict == 0 & bot == 1')))\n",
    "print(\"\\thuman identified as bot\", len(trainres.query('bot != predict & predict == 1 & bot == 0')))\n",
    "\n",
    "print(\"\\nCorrectly classified in the training set:\")\n",
    "print(\"\\tcorrectly classified bots\",len(trainres.query('bot == predict & predict == 1')))\n",
    "print(\"\\tcorrectly classified humans\",len(trainres.query('bot == predict & predict == 0')))"
   ]
  },
  {
   "cell_type": "markdown",
   "metadata": {},
   "source": [
    "## Sensitivity analysis"
   ]
  },
  {
   "cell_type": "code",
   "execution_count": 9,
   "metadata": {},
   "outputs": [],
   "source": [
    "from sklearn.metrics import confusion_matrix\n",
    "\n",
    "# To predict the given row with our model\n",
    "def perdict_account(model,row):\n",
    "    return model.predict(row[features].values)\n",
    "\n",
    "hyper_tuning=pandas.DataFrame()\n",
    "# Create a column with number of non-empty comments\n",
    "df = (\n",
    "    df_test\n",
    "    .copy().\n",
    "    assign(nonempty_comments = lambda x: x['comments']-x['empty_comments'])\n",
    "    .assign(pred = lambda x: perdict_account(model,x).astype(int))\n",
    ")\n",
    "\n",
    "# Bin size\n",
    "binv = 5\n",
    "\n",
    "# Calculate number of TP, FP, TN, FN in each bin\n",
    "for lim in range(0,100,binv):\n",
    "    true= df[lambda x:x['nonempty_comments'] >= lim][lambda x:x['nonempty_comments'] < lim+binv]['bot']\n",
    "    pred= df[lambda x:x['nonempty_comments'] >= lim][lambda x:x['nonempty_comments'] < lim+binv]['pred']\n",
    "    cnf = confusion_matrix(true,pred)\n",
    "    hyper_tuning=hyper_tuning.append({\n",
    "        'critrion':'max_nonempty_comment',\n",
    "        'model': str(model).split('(')[0],\n",
    "        'lim':lim,\n",
    "        'total':len(true),\n",
    "        'TP': cnf[0][0] if len(cnf) >0 else 0,\n",
    "        'FP': cnf[0][1] if len(cnf) >1 else 0,\n",
    "        'FN': cnf[1][0] if len(cnf) >1 else 0,\n",
    "        'TN': cnf[1][1] if len(cnf) >1 else 0,\n",
    "    },ignore_index=True)\n",
    "\n",
    "# Function to calculate F1\n",
    "def wf1(TP,FN,TN,FP):\n",
    "    try:\n",
    "        wp = (((TP/(TP+FP))*(TP+FN)) + ((TN/(TN+FN))*(TN+FP))) / (TP+FN+TN+FP)\n",
    "        wr = (((TP/(TP+FN))*(TP+FN)) + ((TN/(TN+FP))*(TN+FP))) / (TP+FN+TN+FP)\n",
    "        return (2*wp*wr)/(wp+wr)\n",
    "    except ZeroDivisionError:\n",
    "        return 0\n",
    "\n",
    "# Apply F1 for each row\n",
    "hyper_tuning['wf'] = hyper_tuning.apply(lambda x: wf1(x['TP'],x['FN'],x['TN'],x['FP']),axis=1)\n",
    "hyper_tuning = (\n",
    "    hyper_tuning\n",
    "    .assign(lim = lambda x: x['lim'].astype(int))\n",
    "    .reset_index()\n",
    "    .set_index('lim')\n",
    ")\n"
   ]
  },
  {
   "cell_type": "code",
   "execution_count": 10,
   "metadata": {
    "scrolled": true
   },
   "outputs": [
    {
     "data": {
      "image/png": "[encoded data removed]",
      "text/plain": [
       "<Figure size 504x180 with 2 Axes>"
      ]
     },
     "metadata": {
      "needs_background": "light"
     },
     "output_type": "display_data"
    }
   ],
   "source": [
    "from matplotlib.colors import LinearSegmentedColormap\n",
    "\n",
    "colors= seaborn.color_palette(\"bone_r\", 11)\n",
    "fig, ax = plt.subplots(figsize=[7,2.5])\n",
    "\n",
    "# Set color for each row\n",
    "def returncolor(num):\n",
    "    if num<=30 :\n",
    "        return colors[0]\n",
    "    elif num<=40:\n",
    "        return colors[2]\n",
    "    elif num<=50:\n",
    "        return colors[4]\n",
    "    elif num<=100:\n",
    "        return colors[7]\n",
    "    else:\n",
    "        return colors[10]\n",
    "    \n",
    "# Find color for each bin based on number of commenter in each row\n",
    "df = hyper_tuning.assign(c = lambda x: x['total'].apply(lambda s : returncolor(s)))\n",
    "\n",
    "# Draw hist \n",
    "for i,row in df.iterrows():\n",
    "    ax.bar(i, row['wf'], width=4.7,linewidth=.3, color=row['c'], align='edge',edgecolor='k')\n",
    "\n",
    "# Create color map\n",
    "myColors = (colors[0], colors[2], colors[4],colors[7],colors[10])\n",
    "cmap = LinearSegmentedColormap.from_list('Custom', myColors, len(myColors))\n",
    "colorbar = fig.colorbar(mlp.cm.ScalarMappable(norm=mlp.colors.Normalize(vmin=0,vmax=250), cmap=cmap), ax=ax,pad = 0.02)\n",
    "plt.xticks(range(0,101,5))\n",
    "colorbar.set_ticks([0, 50, 100,150,200,250])\n",
    "colorbar.set_ticklabels([0, 30,40,50,100,250])\n",
    "colorbar.ax.text(1200,20,'number of commenters', rotation=270)\n",
    "ax.set_ylabel('f1 score')\n",
    "ax.set_xlabel('number of non-empty comments')\n",
    "fig.savefig('../figures/sensitivity_analysis_wf1.pdf', bbox_inches='tight')"
   ]
  },
  {
   "cell_type": "code",
   "execution_count": 11,
   "metadata": {},
   "outputs": [],
   "source": [
    "(\n",
    "    df_orig\n",
    "    .assign(prediction = lambda x: model.predict(x[features]))\n",
    "    [['account','project','bot','prediction']]\n",
    "    .to_csv('../data/predictions.csv.gz')\n",
    ")"
   ]
  }
 ],
 "metadata": {
  "kernelspec": {
   "display_name": "Python 3",
   "language": "python",
   "name": "python3"
  },
  "language_info": {
   "codemirror_mode": {
    "name": "ipython",
    "version": 3
   },
   "file_extension": ".py",
   "mimetype": "text/x-python",
   "name": "python",
   "nbconvert_exporter": "python",
   "pygments_lexer": "ipython3",
   "version": "3.8.5"
  }
 },
 "nbformat": 4,
 "nbformat_minor": 4
}
