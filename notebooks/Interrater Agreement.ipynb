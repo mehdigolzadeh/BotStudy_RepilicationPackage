{
 "cells": [
  {
   "cell_type": "code",
   "execution_count": 2,
   "metadata": {},
   "outputs": [],
   "source": [
    "import pandas\n",
    "from nltk import agreement"
   ]
  },
  {
   "cell_type": "markdown",
   "metadata": {},
   "source": [
    "## Rating data"
   ]
  },
  {
   "cell_type": "code",
   "execution_count": 25,
   "metadata": {},
   "outputs": [
    {
     "data": {
      "text/html": [
       "<div>\n",
       "<style scoped>\n",
       "    .dataframe tbody tr th:only-of-type {\n",
       "        vertical-align: middle;\n",
       "    }\n",
       "\n",
       "    .dataframe tbody tr th {\n",
       "        vertical-align: top;\n",
       "    }\n",
       "\n",
       "    .dataframe thead th {\n",
       "        text-align: right;\n",
       "    }\n",
       "</style>\n",
       "<table border=\"1\" class=\"dataframe\">\n",
       "  <thead>\n",
       "    <tr style=\"text-align: right;\">\n",
       "      <th></th>\n",
       "      <th>id</th>\n",
       "      <th>rate1</th>\n",
       "      <th>rater1</th>\n",
       "      <th>rater1_diff</th>\n",
       "      <th>rate1_final</th>\n",
       "      <th>rate2</th>\n",
       "      <th>rater2</th>\n",
       "      <th>rater2_diff</th>\n",
       "      <th>rate2_final</th>\n",
       "      <th>final</th>\n",
       "    </tr>\n",
       "  </thead>\n",
       "  <tbody>\n",
       "    <tr>\n",
       "      <th>0</th>\n",
       "      <td>1</td>\n",
       "      <td>2</td>\n",
       "      <td>r1</td>\n",
       "      <td>2</td>\n",
       "      <td>2</td>\n",
       "      <td>2</td>\n",
       "      <td>r3</td>\n",
       "      <td>1</td>\n",
       "      <td>2</td>\n",
       "      <td>2</td>\n",
       "    </tr>\n",
       "    <tr>\n",
       "      <th>1</th>\n",
       "      <td>2</td>\n",
       "      <td>1</td>\n",
       "      <td>r1</td>\n",
       "      <td>1</td>\n",
       "      <td>1</td>\n",
       "      <td>1</td>\n",
       "      <td>r3</td>\n",
       "      <td>1</td>\n",
       "      <td>1</td>\n",
       "      <td>1</td>\n",
       "    </tr>\n",
       "    <tr>\n",
       "      <th>2</th>\n",
       "      <td>3</td>\n",
       "      <td>2</td>\n",
       "      <td>r3</td>\n",
       "      <td>1</td>\n",
       "      <td>2</td>\n",
       "      <td>2</td>\n",
       "      <td>r1</td>\n",
       "      <td>2</td>\n",
       "      <td>2</td>\n",
       "      <td>2</td>\n",
       "    </tr>\n",
       "    <tr>\n",
       "      <th>3</th>\n",
       "      <td>4</td>\n",
       "      <td>3</td>\n",
       "      <td>r3</td>\n",
       "      <td>1</td>\n",
       "      <td>1</td>\n",
       "      <td>3</td>\n",
       "      <td>r1</td>\n",
       "      <td>0</td>\n",
       "      <td>1</td>\n",
       "      <td>1</td>\n",
       "    </tr>\n",
       "    <tr>\n",
       "      <th>4</th>\n",
       "      <td>5</td>\n",
       "      <td>3</td>\n",
       "      <td>r3</td>\n",
       "      <td>3</td>\n",
       "      <td>3</td>\n",
       "      <td>2</td>\n",
       "      <td>r4</td>\n",
       "      <td>2</td>\n",
       "      <td>3</td>\n",
       "      <td>3</td>\n",
       "    </tr>\n",
       "  </tbody>\n",
       "</table>\n",
       "</div>"
      ],
      "text/plain": [
       "   id  rate1 rater1  rater1_diff  rate1_final  rate2 rater2  rater2_diff  \\\n",
       "0   1      2     r1            2            2      2     r3            1   \n",
       "1   2      1     r1            1            1      1     r3            1   \n",
       "2   3      2     r3            1            2      2     r1            2   \n",
       "3   4      3     r3            1            1      3     r1            0   \n",
       "4   5      3     r3            3            3      2     r4            2   \n",
       "\n",
       "   rate2_final  final  \n",
       "0            2      2  \n",
       "1            1      1  \n",
       "2            2      2  \n",
       "3            1      1  \n",
       "4            3      3  "
      ]
     },
     "execution_count": 25,
     "metadata": {},
     "output_type": "execute_result"
    }
   ],
   "source": [
    "# Load rating data\n",
    "df_rating = pandas.read_csv('../rawdata/accounts_rating_final.csv').iloc[:5082,:]\n",
    "df_rating.head()"
   ]
  },
  {
   "cell_type": "markdown",
   "metadata": {},
   "source": [
    "## Interrater agreement round 1"
   ]
  },
  {
   "cell_type": "code",
   "execution_count": 26,
   "metadata": {},
   "outputs": [
    {
     "name": "stdout",
     "output_type": "stream",
     "text": [
      "kappa 0.8469024655382728\n",
      "fleiss 0.8469024655382728\n",
      "alpha 0.8469096984313795\n",
      "scotts 0.8468946349361941\n"
     ]
    }
   ],
   "source": [
    "rate1 = df_rating.rate1.values\n",
    "rate2 = df_rating.rate2.values\n",
    "\n",
    "taskdata=[[0,str(i),str(rate1[i])] for i in range(0,len(rate1))]+[[1,str(i),str(rate2[i])] for i in range(0,len(rate2))]\n",
    "ratingtask = agreement.AnnotationTask(data=taskdata)\n",
    "print(\"kappa \" +str(ratingtask.kappa()))\n",
    "print(\"fleiss \" + str(ratingtask.multi_kappa()))\n",
    "print(\"alpha \" +str(ratingtask.alpha()))\n",
    "print(\"scotts \" + str(ratingtask.pi()))"
   ]
  },
  {
   "cell_type": "code",
   "execution_count": 35,
   "metadata": {
    "scrolled": false
   },
   "outputs": [
    {
     "name": "stdout",
     "output_type": "stream",
     "text": [
      "first round\n",
      "Equally rated as bot:  472\n",
      "Equallry rated human:  4364\n",
      "Equallry rated IDK:  69\n",
      "Rated differently:  177\n",
      "--------------------\n",
      "second round\n",
      "Equally rated as bot:  527\n",
      "Equallry rated human:  4473\n",
      "Equallry rated IDK:  77\n",
      "Rated differently:  4\n"
     ]
    }
   ],
   "source": [
    "print('first round')\n",
    "print('Equally rated as bot: ',df_rating[lambda x:x['rate1'] == x['rate2']][lambda x: x['rate1']==2].shape[0])\n",
    "print('Equallry rated human: ',df_rating[lambda x:x['rate1'] == x['rate2']][lambda x: x['rate1']==1].shape[0])\n",
    "print('Equallry rated IDK: ',df_rating[lambda x:x['rate1'] == x['rate2']][lambda x: x['rate1']==3].shape[0])\n",
    "print('Rated differently: ',df_rating[lambda x:x['rate1'] != x['rate2']].shape[0])\n",
    "print('--------------------')\n",
    "print('second round')\n",
    "print('Equally rated as bot: ',df_rating[lambda x:x['rate1_final'] == x['rate2_final']][lambda x: x['rate1_final']==2].shape[0])\n",
    "print('Equallry rated human: ',df_rating[lambda x:x['rate1_final'] == x['rate2_final']][lambda x: x['rate1_final']==1].shape[0])\n",
    "print('Equallry rated IDK: ',df_rating[lambda x:x['rate1_final'] == x['rate2_final']][lambda x: x['rate1_final']==3].shape[0])\n",
    "print('Rated differently: ',df_rating[lambda x:x['rate1_final'] != x['rate2_final']].shape[0])"
   ]
  },
  {
   "cell_type": "markdown",
   "metadata": {},
   "source": [
    "# Interrater agreement after discussion (round 2)"
   ]
  },
  {
   "cell_type": "code",
   "execution_count": 4,
   "metadata": {},
   "outputs": [
    {
     "name": "stdout",
     "output_type": "stream",
     "text": [
      "kappa 0.9963463019414441\n",
      "fleiss 0.9963463019414441\n",
      "alpha 0.9963466420794419\n",
      "scotts 0.9963463016304697\n"
     ]
    }
   ],
   "source": [
    "rate1 = df_rating.rate1_final.values\n",
    "rate2 = df_rating.rate2_final.values\n",
    "\n",
    "taskdata=[[0,str(i),str(rate1[i])] for i in range(0,len(rate1))]+[[1,str(i),str(rate2[i])] for i in range(0,len(rate2))]\n",
    "ratingtask = agreement.AnnotationTask(data=taskdata)\n",
    "print(\"kappa \" +str(ratingtask.kappa()))\n",
    "print(\"fleiss \" + str(ratingtask.multi_kappa()))\n",
    "print(\"alpha \" +str(ratingtask.alpha()))\n",
    "print(\"scotts \" + str(ratingtask.pi()))"
   ]
  },
  {
   "cell_type": "markdown",
   "metadata": {},
   "source": [
    "# Computing time spent for rating"
   ]
  },
  {
   "cell_type": "code",
   "execution_count": 5,
   "metadata": {},
   "outputs": [],
   "source": [
    "df_ratingtime = pandas.read_csv('../rawdata/ratedata.csv',parse_dates=['rated_at'])"
   ]
  },
  {
   "cell_type": "code",
   "execution_count": 6,
   "metadata": {},
   "outputs": [],
   "source": [
    "df_ratingtime['prated_at'] = df_ratingtime['rated_at'].shift(-1)\n",
    "df_ratingtime =(\n",
    "    df_ratingtime\n",
    "    .assign(\n",
    "        time_interval = lambda x: pandas.np.where(\n",
    "            ((x['prated_at']-x['rated_at']).dt.total_seconds()>60) | ((x['prated_at']-x['rated_at']).dt.total_seconds()<0),\n",
    "            60, (x['prated_at']-x['rated_at']).dt.total_seconds())\n",
    "    )\n",
    ")"
   ]
  },
  {
   "cell_type": "code",
   "execution_count": 7,
   "metadata": {
    "scrolled": true
   },
   "outputs": [
    {
     "data": {
      "text/html": [
       "<div>\n",
       "<style scoped>\n",
       "    .dataframe tbody tr th:only-of-type {\n",
       "        vertical-align: middle;\n",
       "    }\n",
       "\n",
       "    .dataframe tbody tr th {\n",
       "        vertical-align: top;\n",
       "    }\n",
       "\n",
       "    .dataframe thead th {\n",
       "        text-align: right;\n",
       "    }\n",
       "</style>\n",
       "<table border=\"1\" class=\"dataframe\">\n",
       "  <thead>\n",
       "    <tr style=\"text-align: right;\">\n",
       "      <th></th>\n",
       "      <th>time_interval</th>\n",
       "    </tr>\n",
       "    <tr>\n",
       "      <th>rater</th>\n",
       "      <th></th>\n",
       "    </tr>\n",
       "  </thead>\n",
       "  <tbody>\n",
       "    <tr>\n",
       "      <th>12</th>\n",
       "      <td>28.416667</td>\n",
       "    </tr>\n",
       "    <tr>\n",
       "      <th>13</th>\n",
       "      <td>5.929444</td>\n",
       "    </tr>\n",
       "    <tr>\n",
       "      <th>14</th>\n",
       "      <td>16.169444</td>\n",
       "    </tr>\n",
       "    <tr>\n",
       "      <th>15</th>\n",
       "      <td>11.825278</td>\n",
       "    </tr>\n",
       "  </tbody>\n",
       "</table>\n",
       "</div>"
      ],
      "text/plain": [
       "       time_interval\n",
       "rater               \n",
       "12         28.416667\n",
       "13          5.929444\n",
       "14         16.169444\n",
       "15         11.825278"
      ]
     },
     "execution_count": 7,
     "metadata": {},
     "output_type": "execute_result"
    }
   ],
   "source": [
    "df_ratingtime.groupby('rater').agg({'time_interval':lambda x: x.sum()/3600})"
   ]
  },
  {
   "cell_type": "markdown",
   "metadata": {},
   "source": [
    "### Time spent on rating + time spend on discussion sessions with raters"
   ]
  },
  {
   "cell_type": "code",
   "execution_count": 8,
   "metadata": {},
   "outputs": [
    {
     "name": "stdout",
     "output_type": "stream",
     "text": [
      "Total time spent on rating by raters:  62.340833333333336\n",
      "Time spend on discussion sessions: \n",
      "Discussion session 1: 3 hours, 4 raters, total of 12 hours\n",
      "Discussion session 2: 3 hours, 4 raters, total of 12 hours\n",
      "Discussion session 2: 2 hours, 4 raters, total of 8 hours\n",
      "Discussion session 3: 2 hours, 3 raters, total of 6 hours\n",
      "Discussion session 4: 1.5 hours, 3 raters, total of 4.5 hours\n",
      "\n",
      "Total time spent:  104.84\n"
     ]
    }
   ],
   "source": [
    "print('Total time spent on rating by raters: ',df_ratingtime.time_interval.sum()/3600)\n",
    "print('Time spend on discussion sessions: ')\n",
    "print('Discussion session 1: 3 hours, 4 raters, total of 12 hours')\n",
    "print('Discussion session 2: 3 hours, 4 raters, total of 12 hours')\n",
    "print('Discussion session 2: 2 hours, 4 raters, total of 8 hours')\n",
    "print('Discussion session 3: 2 hours, 3 raters, total of 6 hours')\n",
    "print('Discussion session 4: 1.5 hours, 3 raters, total of 4.5 hours')\n",
    "print('\\nTotal time spent: ',str(62.34 + 12+12+8+6+4.5))"
   ]
  }
 ],
 "metadata": {
  "kernelspec": {
   "display_name": "Python 3",
   "language": "python",
   "name": "python3"
  },
  "language_info": {
   "codemirror_mode": {
    "name": "ipython",
    "version": 3
   },
   "file_extension": ".py",
   "mimetype": "text/x-python",
   "name": "python",
   "nbconvert_exporter": "python",
   "pygments_lexer": "ipython3",
   "version": "3.7.7"
  }
 },
 "nbformat": 4,
 "nbformat_minor": 4
}
